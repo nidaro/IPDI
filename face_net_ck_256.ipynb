{
 "cells": [
  {
   "cell_type": "code",
   "execution_count": 1,
   "metadata": {
    "collapsed": true
   },
   "outputs": [],
   "source": [
    "from lasagne import objectives\n",
    "from lasagne import nonlinearities\n",
    "from lasagne import updates\n",
    "from lasagne.layers import InputLayer, Conv2DLayer, DropoutLayer,\\\n",
    "                           MaxPool2DLayer, DenseLayer\n",
    "from lasagne.nonlinearities import rectify"
   ]
  },
  {
   "cell_type": "code",
   "execution_count": 2,
   "metadata": {
    "collapsed": true
   },
   "outputs": [],
   "source": [
    "import os\n",
    "import pandas as pd\n",
    "import cv2"
   ]
  },
  {
   "cell_type": "code",
   "execution_count": 3,
   "metadata": {
    "collapsed": true
   },
   "outputs": [],
   "source": [
    "# Creamos la función para abrir el set de imágenes (tienen que llamarse \"clase\"_\"algo\") y lo guardarlo como \"faces.csv\""
   ]
  },
  {
   "cell_type": "code",
   "execution_count": 4,
   "metadata": {
    "collapsed": true
   },
   "outputs": [],
   "source": [
    "def images_to_file(path_to_photos):\n",
    "    \"\"\" load images from folder and write a csv and return \n",
    "    a pd dataframe with X : Images and y:labels\"\"\"\n",
    "    ids = [os.path.splitext(image_id)[0] for image_id in os.listdir(path_to_photos)]\n",
    "    df_out = pd.DataFrame(columns=['Image', 'Model', 'Model_enc'], index=ids)\n",
    "    for image_file in os.listdir(path_to_photos):\n",
    "            image = cv2.imread(os.path.join(path_to_photos, image_file), 0)\n",
    "            df_out['Image'][os.path.splitext(image_file)[0]] = ' '.join(map(str, image.flatten()))\n",
    "            df_out['Model'][os.path.splitext(image_file)[0]] = image_file.split('_')[0]\n",
    "       \n",
    "    catenc = pd.factorize(df_out['Model'])\n",
    "    df_out['Model_enc'] = catenc[0]\n",
    "    print(catenc)\n",
    "    df_out.to_csv('../faces.csv')\n",
    "    \n",
    "    return df_out"
   ]
  },
  {
   "cell_type": "code",
   "execution_count": 5,
   "metadata": {},
   "outputs": [
    {
     "name": "stdout",
     "output_type": "stream",
     "text": [
      "(array([0, 0, 0, ..., 2, 2, 2], dtype=int64), Index(['angry', 'happy', 'sad'], dtype='object'))\n"
     ]
    },
    {
     "data": {
      "text/html": [
       "<div>\n",
       "<style>\n",
       "    .dataframe thead tr:only-child th {\n",
       "        text-align: right;\n",
       "    }\n",
       "\n",
       "    .dataframe thead th {\n",
       "        text-align: left;\n",
       "    }\n",
       "\n",
       "    .dataframe tbody tr th {\n",
       "        vertical-align: top;\n",
       "    }\n",
       "</style>\n",
       "<table border=\"1\" class=\"dataframe\">\n",
       "  <thead>\n",
       "    <tr style=\"text-align: right;\">\n",
       "      <th></th>\n",
       "      <th>Image</th>\n",
       "      <th>Model</th>\n",
       "      <th>Model_enc</th>\n",
       "    </tr>\n",
       "  </thead>\n",
       "  <tbody>\n",
       "    <tr>\n",
       "      <th>angry_ (1)</th>\n",
       "      <td>123 129 128 123 121 121 126 133 134 129 125 13...</td>\n",
       "      <td>angry</td>\n",
       "      <td>0</td>\n",
       "    </tr>\n",
       "    <tr>\n",
       "      <th>angry_ (10)</th>\n",
       "      <td>128 4 0 1 1 0 0 0 0 0 0 0 0 0 0 0 0 0 0 0 0 0 ...</td>\n",
       "      <td>angry</td>\n",
       "      <td>0</td>\n",
       "    </tr>\n",
       "    <tr>\n",
       "      <th>angry_ (100)</th>\n",
       "      <td>55 0 1 3 0 7 126 226 245 236 160 41 0 0 0 0 0 ...</td>\n",
       "      <td>angry</td>\n",
       "      <td>0</td>\n",
       "    </tr>\n",
       "    <tr>\n",
       "      <th>angry_ (1000)</th>\n",
       "      <td>27 0 0 0 0 0 59 140 202 154 74 19 0 0 0 0 0 0 ...</td>\n",
       "      <td>angry</td>\n",
       "      <td>0</td>\n",
       "    </tr>\n",
       "    <tr>\n",
       "      <th>angry_ (1001)</th>\n",
       "      <td>27 0 0 0 0 0 51 149 227 161 75 24 0 0 0 0 0 0 ...</td>\n",
       "      <td>angry</td>\n",
       "      <td>0</td>\n",
       "    </tr>\n",
       "    <tr>\n",
       "      <th>angry_ (1002)</th>\n",
       "      <td>32 1 0 0 0 0 42 130 209 166 84 32 1 0 0 0 0 0 ...</td>\n",
       "      <td>angry</td>\n",
       "      <td>0</td>\n",
       "    </tr>\n",
       "    <tr>\n",
       "      <th>angry_ (1003)</th>\n",
       "      <td>19 0 0 0 0 0 54 143 228 162 70 16 0 0 0 0 0 0 ...</td>\n",
       "      <td>angry</td>\n",
       "      <td>0</td>\n",
       "    </tr>\n",
       "    <tr>\n",
       "      <th>angry_ (1004)</th>\n",
       "      <td>21 0 48 136 237 220 111 46 5 0 1 1 0 0 0 0 0 0...</td>\n",
       "      <td>angry</td>\n",
       "      <td>0</td>\n",
       "    </tr>\n",
       "    <tr>\n",
       "      <th>angry_ (1005)</th>\n",
       "      <td>9 0 67 163 245 200 94 41 5 1 0 0 0 0 0 0 0 0 0...</td>\n",
       "      <td>angry</td>\n",
       "      <td>0</td>\n",
       "    </tr>\n",
       "    <tr>\n",
       "      <th>angry_ (1006)</th>\n",
       "      <td>10 0 63 161 245 202 95 39 6 1 2 1 0 0 0 0 0 0 ...</td>\n",
       "      <td>angry</td>\n",
       "      <td>0</td>\n",
       "    </tr>\n",
       "    <tr>\n",
       "      <th>angry_ (1007)</th>\n",
       "      <td>14 0 60 142 244 204 91 30 2 1 2 0 0 0 0 0 0 0 ...</td>\n",
       "      <td>angry</td>\n",
       "      <td>0</td>\n",
       "    </tr>\n",
       "    <tr>\n",
       "      <th>angry_ (1008)</th>\n",
       "      <td>9 0 55 166 245 198 93 38 3 0 0 0 0 0 0 0 0 0 0...</td>\n",
       "      <td>angry</td>\n",
       "      <td>0</td>\n",
       "    </tr>\n",
       "    <tr>\n",
       "      <th>angry_ (1009)</th>\n",
       "      <td>23 0 0 1 0 5 74 163 235 156 66 17 0 0 0 0 0 0 ...</td>\n",
       "      <td>angry</td>\n",
       "      <td>0</td>\n",
       "    </tr>\n",
       "    <tr>\n",
       "      <th>angry_ (101)</th>\n",
       "      <td>37 0 1 1 0 11 136 241 245 230 144 36 0 1 1 0 0...</td>\n",
       "      <td>angry</td>\n",
       "      <td>0</td>\n",
       "    </tr>\n",
       "    <tr>\n",
       "      <th>angry_ (1010)</th>\n",
       "      <td>27 0 0 0 0 0 65 161 238 169 76 31 5 0 0 1 0 0 ...</td>\n",
       "      <td>angry</td>\n",
       "      <td>0</td>\n",
       "    </tr>\n",
       "    <tr>\n",
       "      <th>angry_ (1011)</th>\n",
       "      <td>25 0 0 0 0 2 67 159 245 165 70 23 0 0 1 1 0 0 ...</td>\n",
       "      <td>angry</td>\n",
       "      <td>0</td>\n",
       "    </tr>\n",
       "    <tr>\n",
       "      <th>angry_ (1012)</th>\n",
       "      <td>24 0 1 1 0 3 61 163 245 165 73 18 0 0 0 0 0 0 ...</td>\n",
       "      <td>angry</td>\n",
       "      <td>0</td>\n",
       "    </tr>\n",
       "    <tr>\n",
       "      <th>angry_ (1013)</th>\n",
       "      <td>30 2 1 1 0 1 56 149 229 172 78 22 1 2 2 0 0 0 ...</td>\n",
       "      <td>angry</td>\n",
       "      <td>0</td>\n",
       "    </tr>\n",
       "    <tr>\n",
       "      <th>angry_ (1014)</th>\n",
       "      <td>28 0 1 2 0 3 60 145 237 174 78 20 0 0 0 0 0 0 ...</td>\n",
       "      <td>angry</td>\n",
       "      <td>0</td>\n",
       "    </tr>\n",
       "    <tr>\n",
       "      <th>angry_ (1015)</th>\n",
       "      <td>19 0 0 0 0 4 64 170 245 159 68 17 0 0 1 0 0 0 ...</td>\n",
       "      <td>angry</td>\n",
       "      <td>0</td>\n",
       "    </tr>\n",
       "    <tr>\n",
       "      <th>angry_ (1016)</th>\n",
       "      <td>18 3 1 0 0 10 84 177 233 141 65 17 0 1 2 0 0 0...</td>\n",
       "      <td>angry</td>\n",
       "      <td>0</td>\n",
       "    </tr>\n",
       "    <tr>\n",
       "      <th>angry_ (1017)</th>\n",
       "      <td>19 0 1 1 0 0 0 0 0 0 0 0 0 0 0 0 0 0 0 0 0 0 0...</td>\n",
       "      <td>angry</td>\n",
       "      <td>0</td>\n",
       "    </tr>\n",
       "    <tr>\n",
       "      <th>angry_ (1018)</th>\n",
       "      <td>16 0 0 0 0 0 0 0 0 0 0 0 0 0 0 0 0 0 0 0 0 0 0...</td>\n",
       "      <td>angry</td>\n",
       "      <td>0</td>\n",
       "    </tr>\n",
       "    <tr>\n",
       "      <th>angry_ (1019)</th>\n",
       "      <td>24 0 0 1 0 0 0 0 0 0 0 0 0 0 0 0 0 0 0 0 0 0 0...</td>\n",
       "      <td>angry</td>\n",
       "      <td>0</td>\n",
       "    </tr>\n",
       "    <tr>\n",
       "      <th>angry_ (102)</th>\n",
       "      <td>35 5 2 0 0 23 166 239 245 222 137 35 0 1 4 1 0...</td>\n",
       "      <td>angry</td>\n",
       "      <td>0</td>\n",
       "    </tr>\n",
       "    <tr>\n",
       "      <th>angry_ (1020)</th>\n",
       "      <td>20 0 0 0 0 0 0 0 0 0 0 0 0 0 0 0 0 0 0 0 0 0 0...</td>\n",
       "      <td>angry</td>\n",
       "      <td>0</td>\n",
       "    </tr>\n",
       "    <tr>\n",
       "      <th>angry_ (1021)</th>\n",
       "      <td>25 0 0 1 0 0 0 0 0 0 0 0 0 0 0 0 0 0 0 0 0 0 0...</td>\n",
       "      <td>angry</td>\n",
       "      <td>0</td>\n",
       "    </tr>\n",
       "    <tr>\n",
       "      <th>angry_ (1022)</th>\n",
       "      <td>26 0 0 1 0 0 0 0 0 0 0 0 0 0 0 0 0 0 0 0 0 0 0...</td>\n",
       "      <td>angry</td>\n",
       "      <td>0</td>\n",
       "    </tr>\n",
       "    <tr>\n",
       "      <th>angry_ (1023)</th>\n",
       "      <td>17 0 38 117 220 220 106 39 2 0 0 0 0 0 0 0 0 0...</td>\n",
       "      <td>angry</td>\n",
       "      <td>0</td>\n",
       "    </tr>\n",
       "    <tr>\n",
       "      <th>angry_ (1024)</th>\n",
       "      <td>25 0 33 112 206 225 115 40 4 1 0 0 0 0 0 0 0 0...</td>\n",
       "      <td>angry</td>\n",
       "      <td>0</td>\n",
       "    </tr>\n",
       "    <tr>\n",
       "      <th>...</th>\n",
       "      <td>...</td>\n",
       "      <td>...</td>\n",
       "      <td>...</td>\n",
       "    </tr>\n",
       "    <tr>\n",
       "      <th>sad_ (972)</th>\n",
       "      <td>73 49 50 53 52 50 48 49 44 34 75 136 205 206 1...</td>\n",
       "      <td>sad</td>\n",
       "      <td>2</td>\n",
       "    </tr>\n",
       "    <tr>\n",
       "      <th>sad_ (973)</th>\n",
       "      <td>71 50 49 52 49 47 46 45 41 35 81 158 206 187 1...</td>\n",
       "      <td>sad</td>\n",
       "      <td>2</td>\n",
       "    </tr>\n",
       "    <tr>\n",
       "      <th>sad_ (974)</th>\n",
       "      <td>69 41 70 124 182 202 156 93 42 38 94 157 217 1...</td>\n",
       "      <td>sad</td>\n",
       "      <td>2</td>\n",
       "    </tr>\n",
       "    <tr>\n",
       "      <th>sad_ (975)</th>\n",
       "      <td>68 44 73 130 183 197 151 92 44 42 95 154 225 1...</td>\n",
       "      <td>sad</td>\n",
       "      <td>2</td>\n",
       "    </tr>\n",
       "    <tr>\n",
       "      <th>sad_ (976)</th>\n",
       "      <td>72 41 68 125 177 200 157 94 42 39 91 152 207 2...</td>\n",
       "      <td>sad</td>\n",
       "      <td>2</td>\n",
       "    </tr>\n",
       "    <tr>\n",
       "      <th>sad_ (977)</th>\n",
       "      <td>67 40 69 125 184 199 154 93 44 36 96 170 207 1...</td>\n",
       "      <td>sad</td>\n",
       "      <td>2</td>\n",
       "    </tr>\n",
       "    <tr>\n",
       "      <th>sad_ (978)</th>\n",
       "      <td>8 0 0 1 1 0 29 132 199 179 84 9 0 0 0 0 0 0 0 ...</td>\n",
       "      <td>sad</td>\n",
       "      <td>2</td>\n",
       "    </tr>\n",
       "    <tr>\n",
       "      <th>sad_ (979)</th>\n",
       "      <td>4 0 0 0 1 0 28 134 207 176 76 3 0 0 0 0 0 0 0 ...</td>\n",
       "      <td>sad</td>\n",
       "      <td>2</td>\n",
       "    </tr>\n",
       "    <tr>\n",
       "      <th>sad_ (98)</th>\n",
       "      <td>15 0 0 1 0 3 36 100 143 126 67 16 0 0 0 0 0 0 ...</td>\n",
       "      <td>sad</td>\n",
       "      <td>2</td>\n",
       "    </tr>\n",
       "    <tr>\n",
       "      <th>sad_ (980)</th>\n",
       "      <td>5 0 1 1 0 0 30 137 207 172 82 10 0 0 0 0 0 0 0...</td>\n",
       "      <td>sad</td>\n",
       "      <td>2</td>\n",
       "    </tr>\n",
       "    <tr>\n",
       "      <th>sad_ (981)</th>\n",
       "      <td>3 0 0 0 1 0 34 142 201 168 74 2 0 0 0 0 0 0 0 ...</td>\n",
       "      <td>sad</td>\n",
       "      <td>2</td>\n",
       "    </tr>\n",
       "    <tr>\n",
       "      <th>sad_ (982)</th>\n",
       "      <td>3 1 0 0 1 0 31 140 205 177 83 8 1 0 0 0 0 0 0 ...</td>\n",
       "      <td>sad</td>\n",
       "      <td>2</td>\n",
       "    </tr>\n",
       "    <tr>\n",
       "      <th>sad_ (983)</th>\n",
       "      <td>4 0 0 0 1 0 31 137 201 176 85 6 0 0 0 0 0 0 0 ...</td>\n",
       "      <td>sad</td>\n",
       "      <td>2</td>\n",
       "    </tr>\n",
       "    <tr>\n",
       "      <th>sad_ (984)</th>\n",
       "      <td>7 0 1 0 2 0 31 131 198 177 83 10 0 0 0 0 0 0 0...</td>\n",
       "      <td>sad</td>\n",
       "      <td>2</td>\n",
       "    </tr>\n",
       "    <tr>\n",
       "      <th>sad_ (985)</th>\n",
       "      <td>8 0 1 0 1 1 22 126 199 181 90 11 0 0 0 0 0 0 0...</td>\n",
       "      <td>sad</td>\n",
       "      <td>2</td>\n",
       "    </tr>\n",
       "    <tr>\n",
       "      <th>sad_ (986)</th>\n",
       "      <td>9 0 0 0 0 0 22 129 198 176 90 14 0 0 0 0 0 0 0...</td>\n",
       "      <td>sad</td>\n",
       "      <td>2</td>\n",
       "    </tr>\n",
       "    <tr>\n",
       "      <th>sad_ (987)</th>\n",
       "      <td>3 0 0 0 0 0 0 0 0 0 0 0 0 0 0 0 0 0 0 0 0 0 0 ...</td>\n",
       "      <td>sad</td>\n",
       "      <td>2</td>\n",
       "    </tr>\n",
       "    <tr>\n",
       "      <th>sad_ (988)</th>\n",
       "      <td>5 0 0 1 1 0 0 0 0 0 0 0 0 0 0 0 0 0 0 0 0 0 0 ...</td>\n",
       "      <td>sad</td>\n",
       "      <td>2</td>\n",
       "    </tr>\n",
       "    <tr>\n",
       "      <th>sad_ (989)</th>\n",
       "      <td>9 0 0 1 0 0 0 0 0 0 0 0 0 0 0 0 0 0 0 0 0 0 0 ...</td>\n",
       "      <td>sad</td>\n",
       "      <td>2</td>\n",
       "    </tr>\n",
       "    <tr>\n",
       "      <th>sad_ (99)</th>\n",
       "      <td>15 0 0 1 0 4 37 101 143 125 69 21 1 0 0 0 0 0 ...</td>\n",
       "      <td>sad</td>\n",
       "      <td>2</td>\n",
       "    </tr>\n",
       "    <tr>\n",
       "      <th>sad_ (990)</th>\n",
       "      <td>8 0 0 1 1 0 0 0 0 0 0 0 0 0 0 0 0 0 0 0 0 0 0 ...</td>\n",
       "      <td>sad</td>\n",
       "      <td>2</td>\n",
       "    </tr>\n",
       "    <tr>\n",
       "      <th>sad_ (991)</th>\n",
       "      <td>5 0 0 1 0 0 0 0 0 0 0 0 0 0 0 0 0 0 0 0 0 0 0 ...</td>\n",
       "      <td>sad</td>\n",
       "      <td>2</td>\n",
       "    </tr>\n",
       "    <tr>\n",
       "      <th>sad_ (992)</th>\n",
       "      <td>2 0 0 0 0 0 0 0 0 0 0 0 0 0 0 0 0 0 0 0 0 0 0 ...</td>\n",
       "      <td>sad</td>\n",
       "      <td>2</td>\n",
       "    </tr>\n",
       "    <tr>\n",
       "      <th>sad_ (993)</th>\n",
       "      <td>10 0 0 0 0 0 0 0 0 0 0 0 0 0 0 0 0 0 0 0 0 0 0...</td>\n",
       "      <td>sad</td>\n",
       "      <td>2</td>\n",
       "    </tr>\n",
       "    <tr>\n",
       "      <th>sad_ (994)</th>\n",
       "      <td>8 0 23 118 198 201 121 31 0 0 0 0 0 0 0 0 0 0 ...</td>\n",
       "      <td>sad</td>\n",
       "      <td>2</td>\n",
       "    </tr>\n",
       "    <tr>\n",
       "      <th>sad_ (995)</th>\n",
       "      <td>3 0 27 126 203 196 114 30 0 0 0 0 0 0 0 0 0 0 ...</td>\n",
       "      <td>sad</td>\n",
       "      <td>2</td>\n",
       "    </tr>\n",
       "    <tr>\n",
       "      <th>sad_ (996)</th>\n",
       "      <td>6 0 25 117 196 200 121 28 0 0 0 0 0 0 0 0 0 0 ...</td>\n",
       "      <td>sad</td>\n",
       "      <td>2</td>\n",
       "    </tr>\n",
       "    <tr>\n",
       "      <th>sad_ (997)</th>\n",
       "      <td>3 0 29 118 197 203 116 22 0 0 0 0 0 0 0 0 0 0 ...</td>\n",
       "      <td>sad</td>\n",
       "      <td>2</td>\n",
       "    </tr>\n",
       "    <tr>\n",
       "      <th>sad_ (998)</th>\n",
       "      <td>3 1 27 127 204 201 117 27 0 0 0 0 0 0 0 0 0 0 ...</td>\n",
       "      <td>sad</td>\n",
       "      <td>2</td>\n",
       "    </tr>\n",
       "    <tr>\n",
       "      <th>sad_ (999)</th>\n",
       "      <td>5 0 54 162 231 215 124 30 0 0 0 0 0 0 0 0 0 0 ...</td>\n",
       "      <td>sad</td>\n",
       "      <td>2</td>\n",
       "    </tr>\n",
       "  </tbody>\n",
       "</table>\n",
       "<p>5355 rows × 3 columns</p>\n",
       "</div>"
      ],
      "text/plain": [
       "                                                           Image  Model  \\\n",
       "angry_ (1)     123 129 128 123 121 121 126 133 134 129 125 13...  angry   \n",
       "angry_ (10)    128 4 0 1 1 0 0 0 0 0 0 0 0 0 0 0 0 0 0 0 0 0 ...  angry   \n",
       "angry_ (100)   55 0 1 3 0 7 126 226 245 236 160 41 0 0 0 0 0 ...  angry   \n",
       "angry_ (1000)  27 0 0 0 0 0 59 140 202 154 74 19 0 0 0 0 0 0 ...  angry   \n",
       "angry_ (1001)  27 0 0 0 0 0 51 149 227 161 75 24 0 0 0 0 0 0 ...  angry   \n",
       "angry_ (1002)  32 1 0 0 0 0 42 130 209 166 84 32 1 0 0 0 0 0 ...  angry   \n",
       "angry_ (1003)  19 0 0 0 0 0 54 143 228 162 70 16 0 0 0 0 0 0 ...  angry   \n",
       "angry_ (1004)  21 0 48 136 237 220 111 46 5 0 1 1 0 0 0 0 0 0...  angry   \n",
       "angry_ (1005)  9 0 67 163 245 200 94 41 5 1 0 0 0 0 0 0 0 0 0...  angry   \n",
       "angry_ (1006)  10 0 63 161 245 202 95 39 6 1 2 1 0 0 0 0 0 0 ...  angry   \n",
       "angry_ (1007)  14 0 60 142 244 204 91 30 2 1 2 0 0 0 0 0 0 0 ...  angry   \n",
       "angry_ (1008)  9 0 55 166 245 198 93 38 3 0 0 0 0 0 0 0 0 0 0...  angry   \n",
       "angry_ (1009)  23 0 0 1 0 5 74 163 235 156 66 17 0 0 0 0 0 0 ...  angry   \n",
       "angry_ (101)   37 0 1 1 0 11 136 241 245 230 144 36 0 1 1 0 0...  angry   \n",
       "angry_ (1010)  27 0 0 0 0 0 65 161 238 169 76 31 5 0 0 1 0 0 ...  angry   \n",
       "angry_ (1011)  25 0 0 0 0 2 67 159 245 165 70 23 0 0 1 1 0 0 ...  angry   \n",
       "angry_ (1012)  24 0 1 1 0 3 61 163 245 165 73 18 0 0 0 0 0 0 ...  angry   \n",
       "angry_ (1013)  30 2 1 1 0 1 56 149 229 172 78 22 1 2 2 0 0 0 ...  angry   \n",
       "angry_ (1014)  28 0 1 2 0 3 60 145 237 174 78 20 0 0 0 0 0 0 ...  angry   \n",
       "angry_ (1015)  19 0 0 0 0 4 64 170 245 159 68 17 0 0 1 0 0 0 ...  angry   \n",
       "angry_ (1016)  18 3 1 0 0 10 84 177 233 141 65 17 0 1 2 0 0 0...  angry   \n",
       "angry_ (1017)  19 0 1 1 0 0 0 0 0 0 0 0 0 0 0 0 0 0 0 0 0 0 0...  angry   \n",
       "angry_ (1018)  16 0 0 0 0 0 0 0 0 0 0 0 0 0 0 0 0 0 0 0 0 0 0...  angry   \n",
       "angry_ (1019)  24 0 0 1 0 0 0 0 0 0 0 0 0 0 0 0 0 0 0 0 0 0 0...  angry   \n",
       "angry_ (102)   35 5 2 0 0 23 166 239 245 222 137 35 0 1 4 1 0...  angry   \n",
       "angry_ (1020)  20 0 0 0 0 0 0 0 0 0 0 0 0 0 0 0 0 0 0 0 0 0 0...  angry   \n",
       "angry_ (1021)  25 0 0 1 0 0 0 0 0 0 0 0 0 0 0 0 0 0 0 0 0 0 0...  angry   \n",
       "angry_ (1022)  26 0 0 1 0 0 0 0 0 0 0 0 0 0 0 0 0 0 0 0 0 0 0...  angry   \n",
       "angry_ (1023)  17 0 38 117 220 220 106 39 2 0 0 0 0 0 0 0 0 0...  angry   \n",
       "angry_ (1024)  25 0 33 112 206 225 115 40 4 1 0 0 0 0 0 0 0 0...  angry   \n",
       "...                                                          ...    ...   \n",
       "sad_ (972)     73 49 50 53 52 50 48 49 44 34 75 136 205 206 1...    sad   \n",
       "sad_ (973)     71 50 49 52 49 47 46 45 41 35 81 158 206 187 1...    sad   \n",
       "sad_ (974)     69 41 70 124 182 202 156 93 42 38 94 157 217 1...    sad   \n",
       "sad_ (975)     68 44 73 130 183 197 151 92 44 42 95 154 225 1...    sad   \n",
       "sad_ (976)     72 41 68 125 177 200 157 94 42 39 91 152 207 2...    sad   \n",
       "sad_ (977)     67 40 69 125 184 199 154 93 44 36 96 170 207 1...    sad   \n",
       "sad_ (978)     8 0 0 1 1 0 29 132 199 179 84 9 0 0 0 0 0 0 0 ...    sad   \n",
       "sad_ (979)     4 0 0 0 1 0 28 134 207 176 76 3 0 0 0 0 0 0 0 ...    sad   \n",
       "sad_ (98)      15 0 0 1 0 3 36 100 143 126 67 16 0 0 0 0 0 0 ...    sad   \n",
       "sad_ (980)     5 0 1 1 0 0 30 137 207 172 82 10 0 0 0 0 0 0 0...    sad   \n",
       "sad_ (981)     3 0 0 0 1 0 34 142 201 168 74 2 0 0 0 0 0 0 0 ...    sad   \n",
       "sad_ (982)     3 1 0 0 1 0 31 140 205 177 83 8 1 0 0 0 0 0 0 ...    sad   \n",
       "sad_ (983)     4 0 0 0 1 0 31 137 201 176 85 6 0 0 0 0 0 0 0 ...    sad   \n",
       "sad_ (984)     7 0 1 0 2 0 31 131 198 177 83 10 0 0 0 0 0 0 0...    sad   \n",
       "sad_ (985)     8 0 1 0 1 1 22 126 199 181 90 11 0 0 0 0 0 0 0...    sad   \n",
       "sad_ (986)     9 0 0 0 0 0 22 129 198 176 90 14 0 0 0 0 0 0 0...    sad   \n",
       "sad_ (987)     3 0 0 0 0 0 0 0 0 0 0 0 0 0 0 0 0 0 0 0 0 0 0 ...    sad   \n",
       "sad_ (988)     5 0 0 1 1 0 0 0 0 0 0 0 0 0 0 0 0 0 0 0 0 0 0 ...    sad   \n",
       "sad_ (989)     9 0 0 1 0 0 0 0 0 0 0 0 0 0 0 0 0 0 0 0 0 0 0 ...    sad   \n",
       "sad_ (99)      15 0 0 1 0 4 37 101 143 125 69 21 1 0 0 0 0 0 ...    sad   \n",
       "sad_ (990)     8 0 0 1 1 0 0 0 0 0 0 0 0 0 0 0 0 0 0 0 0 0 0 ...    sad   \n",
       "sad_ (991)     5 0 0 1 0 0 0 0 0 0 0 0 0 0 0 0 0 0 0 0 0 0 0 ...    sad   \n",
       "sad_ (992)     2 0 0 0 0 0 0 0 0 0 0 0 0 0 0 0 0 0 0 0 0 0 0 ...    sad   \n",
       "sad_ (993)     10 0 0 0 0 0 0 0 0 0 0 0 0 0 0 0 0 0 0 0 0 0 0...    sad   \n",
       "sad_ (994)     8 0 23 118 198 201 121 31 0 0 0 0 0 0 0 0 0 0 ...    sad   \n",
       "sad_ (995)     3 0 27 126 203 196 114 30 0 0 0 0 0 0 0 0 0 0 ...    sad   \n",
       "sad_ (996)     6 0 25 117 196 200 121 28 0 0 0 0 0 0 0 0 0 0 ...    sad   \n",
       "sad_ (997)     3 0 29 118 197 203 116 22 0 0 0 0 0 0 0 0 0 0 ...    sad   \n",
       "sad_ (998)     3 1 27 127 204 201 117 27 0 0 0 0 0 0 0 0 0 0 ...    sad   \n",
       "sad_ (999)     5 0 54 162 231 215 124 30 0 0 0 0 0 0 0 0 0 0 ...    sad   \n",
       "\n",
       "               Model_enc  \n",
       "angry_ (1)             0  \n",
       "angry_ (10)            0  \n",
       "angry_ (100)           0  \n",
       "angry_ (1000)          0  \n",
       "angry_ (1001)          0  \n",
       "angry_ (1002)          0  \n",
       "angry_ (1003)          0  \n",
       "angry_ (1004)          0  \n",
       "angry_ (1005)          0  \n",
       "angry_ (1006)          0  \n",
       "angry_ (1007)          0  \n",
       "angry_ (1008)          0  \n",
       "angry_ (1009)          0  \n",
       "angry_ (101)           0  \n",
       "angry_ (1010)          0  \n",
       "angry_ (1011)          0  \n",
       "angry_ (1012)          0  \n",
       "angry_ (1013)          0  \n",
       "angry_ (1014)          0  \n",
       "angry_ (1015)          0  \n",
       "angry_ (1016)          0  \n",
       "angry_ (1017)          0  \n",
       "angry_ (1018)          0  \n",
       "angry_ (1019)          0  \n",
       "angry_ (102)           0  \n",
       "angry_ (1020)          0  \n",
       "angry_ (1021)          0  \n",
       "angry_ (1022)          0  \n",
       "angry_ (1023)          0  \n",
       "angry_ (1024)          0  \n",
       "...                  ...  \n",
       "sad_ (972)             2  \n",
       "sad_ (973)             2  \n",
       "sad_ (974)             2  \n",
       "sad_ (975)             2  \n",
       "sad_ (976)             2  \n",
       "sad_ (977)             2  \n",
       "sad_ (978)             2  \n",
       "sad_ (979)             2  \n",
       "sad_ (98)              2  \n",
       "sad_ (980)             2  \n",
       "sad_ (981)             2  \n",
       "sad_ (982)             2  \n",
       "sad_ (983)             2  \n",
       "sad_ (984)             2  \n",
       "sad_ (985)             2  \n",
       "sad_ (986)             2  \n",
       "sad_ (987)             2  \n",
       "sad_ (988)             2  \n",
       "sad_ (989)             2  \n",
       "sad_ (99)              2  \n",
       "sad_ (990)             2  \n",
       "sad_ (991)             2  \n",
       "sad_ (992)             2  \n",
       "sad_ (993)             2  \n",
       "sad_ (994)             2  \n",
       "sad_ (995)             2  \n",
       "sad_ (996)             2  \n",
       "sad_ (997)             2  \n",
       "sad_ (998)             2  \n",
       "sad_ (999)             2  \n",
       "\n",
       "[5355 rows x 3 columns]"
      ]
     },
     "execution_count": 5,
     "metadata": {},
     "output_type": "execute_result"
    }
   ],
   "source": [
    "images_to_file(\"../dataset IPDI 256/\")"
   ]
  },
  {
   "cell_type": "code",
   "execution_count": 5,
   "metadata": {
    "collapsed": true
   },
   "outputs": [],
   "source": [
    "import numpy as np\n",
    "from sklearn.utils import shuffle"
   ]
  },
  {
   "cell_type": "code",
   "execution_count": 6,
   "metadata": {
    "collapsed": true
   },
   "outputs": [],
   "source": [
    "def load(images_dir=\"../dataset IPDI/\", face_net_fn = '../faces.csv'):\n",
    "    \"\"\"Load images and target class for Angry, Happy and Sad faces.\"\"\"\n",
    "    \n",
    "    if os.path.exists(face_net_fn):\n",
    "        df = pd.read_csv(face_net_fn)\n",
    "    else:\n",
    "        df = images_to_file(images_dir)\n",
    "    df['Image'] = df['Image'].apply(lambda im: np.fromstring(im, sep=' '))\n",
    "\n",
    "    X = np.vstack(df['Image'].values) / 255.\n",
    "    X = X.astype(np.float32)\n",
    "\n",
    "    y = df['Model_enc'].values\n",
    "    X, y = shuffle(X, y, random_state=42)\n",
    "    y = y.astype(np.int32)\n",
    "    \n",
    "    return X, y"
   ]
  },
  {
   "cell_type": "code",
   "execution_count": 7,
   "metadata": {
    "collapsed": true
   },
   "outputs": [],
   "source": [
    "import warnings; warnings.simplefilter('ignore')\n",
    "import theano\n",
    "import lasagne\n",
    "from lasagne.updates import nesterov_momentum\n",
    "from nolearn.lasagne import NeuralNet\n",
    "from lasagne.layers import InputLayer, Conv2DLayer, DropoutLayer,\\\n",
    "                           MaxPool2DLayer, DenseLayer\n",
    "from lasagne.objectives import categorical_crossentropy\n",
    "from nolearn.lasagne import BatchIterator"
   ]
  },
  {
   "cell_type": "code",
   "execution_count": 8,
   "metadata": {
    "collapsed": true
   },
   "outputs": [],
   "source": [
    "layers_0 = [\n",
    "    # layer dealing with the input data\n",
    "    (InputLayer, {'shape': (None, 1, 256, 256)}),\n",
    "\n",
    "    # first stage of our convolutional layers\n",
    "    (Conv2DLayer, {'num_filters': 64, 'filter_size': 11}),\n",
    "    (Conv2DLayer, {'num_filters': 64, 'filter_size': 5}),\n",
    "    \n",
    "    (MaxPool2DLayer, {'pool_size': 2}),\n",
    "\n",
    "    # second stage of our convolutional layers\n",
    "    (Conv2DLayer, {'num_filters': 32, 'filter_size': 3}),\n",
    "    (Conv2DLayer, {'num_filters': 32, 'filter_size': 3}),\n",
    "    \n",
    "    (MaxPool2DLayer, {'pool_size': 2}),\n",
    "    \n",
    "    # third stage of our convolutional layers\n",
    "    (Conv2DLayer, {'num_filters': 16, 'filter_size': 3}),\n",
    "    (Conv2DLayer, {'num_filters': 16, 'filter_size': 3}),\n",
    "    \n",
    "    (MaxPool2DLayer, {'pool_size': 2}),\n",
    "\n",
    "    # two dense layers with dropout\n",
    "    (DenseLayer, {'num_units': 64}),\n",
    "    (DropoutLayer, {}),\n",
    "    (DenseLayer, {'num_units': 64}),\n",
    "\n",
    "    # the output layer\n",
    "    (DenseLayer, {'num_units': 3, 'nonlinearity': lasagne.nonlinearities.softmax}),\n",
    "]\n"
   ]
  },
  {
   "cell_type": "code",
   "execution_count": 9,
   "metadata": {
    "collapsed": true
   },
   "outputs": [],
   "source": [
    "def create_net(max_epochs=100):\n",
    "    return NeuralNet(\n",
    "        layers=layers_0,\n",
    "        update=nesterov_momentum,\n",
    "        update_learning_rate=0.008,\n",
    "        regression=False,\n",
    "        objective_loss_function=categorical_crossentropy,\n",
    "        #batch_iterator_train=BatchIterator(batch_size=256),\n",
    "        #on_epoch_finished=[\n",
    "        #    AdjustVariable('update_learning_rate', start=0.03, stop=0.001),\n",
    "        #    AdjustVariable('update_momentum', start=0.9, stop=0.9999)  # ,\n",
    "        #],\n",
    "        max_epochs=max_epochs,\n",
    "        verbose=1)"
   ]
  },
  {
   "cell_type": "code",
   "execution_count": 10,
   "metadata": {
    "collapsed": true
   },
   "outputs": [],
   "source": [
    "# Definir set de entrenamiento"
   ]
  },
  {
   "cell_type": "code",
   "execution_count": null,
   "metadata": {
    "collapsed": true
   },
   "outputs": [],
   "source": [
    "from sklearn.cross_validation import train_test_split\n",
    "x, y = load()\n",
    "x = x.reshape(-1, 1, 256, 256)\n",
    "X_train, X_test, y_train, y_test = train_test_split(x, y,\n",
    "                                                    test_size=0.2,\n",
    "                                                    random_state=42)\n",
    "print(X_train.shape)"
   ]
  },
  {
   "cell_type": "code",
   "execution_count": 13,
   "metadata": {
    "collapsed": true
   },
   "outputs": [],
   "source": [
    "# Crear y entrenar red"
   ]
  },
  {
   "cell_type": "code",
   "execution_count": 4,
   "metadata": {},
   "outputs": [
    {
     "ename": "NameError",
     "evalue": "name 'X_train' is not defined",
     "output_type": "error",
     "traceback": [
      "\u001b[1;31m---------------------------------------------------------------------------\u001b[0m",
      "\u001b[1;31mNameError\u001b[0m                                 Traceback (most recent call last)",
      "\u001b[1;32m<ipython-input-4-b473cbf5cecd>\u001b[0m in \u001b[0;36m<module>\u001b[1;34m()\u001b[0m\n\u001b[0;32m      1\u001b[0m \u001b[0mnet\u001b[0m \u001b[1;33m=\u001b[0m \u001b[0mcreate_net\u001b[0m\u001b[1;33m(\u001b[0m\u001b[1;36m20\u001b[0m\u001b[1;33m)\u001b[0m\u001b[1;33m\u001b[0m\u001b[0m\n\u001b[1;32m----> 2\u001b[1;33m \u001b[0mnet\u001b[0m\u001b[1;33m.\u001b[0m\u001b[0mfit\u001b[0m\u001b[1;33m(\u001b[0m\u001b[0mX_train\u001b[0m\u001b[1;33m,\u001b[0m \u001b[0my_train\u001b[0m\u001b[1;33m)\u001b[0m\u001b[1;33m\u001b[0m\u001b[0m\n\u001b[0m",
      "\u001b[1;31mNameError\u001b[0m: name 'X_train' is not defined"
     ]
    }
   ],
   "source": [
    "net = create_net(20)\n",
    "net.fit(X_train, y_train)"
   ]
  },
  {
   "cell_type": "code",
   "execution_count": 23,
   "metadata": {
    "collapsed": true
   },
   "outputs": [],
   "source": [
    "# Mostrar errores de clasif. durante entrenamiento y post-entrenamiento"
   ]
  },
  {
   "cell_type": "code",
   "execution_count": 11,
   "metadata": {
    "collapsed": true
   },
   "outputs": [],
   "source": [
    "from sklearn.metrics import classification_report, accuracy_score\n",
    "from sklearn.metrics import confusion_matrix\n",
    "from nolearn.lasagne import visualize"
   ]
  },
  {
   "cell_type": "code",
   "execution_count": 21,
   "metadata": {},
   "outputs": [
    {
     "name": "stdout",
     "output_type": "stream",
     "text": [
      "             precision    recall  f1-score   support\n",
      "\n",
      "          0       0.98      1.00      0.99       347\n",
      "          1       1.00      1.00      1.00       511\n",
      "          2       1.00      0.97      0.98       213\n",
      "\n",
      "avg / total       0.99      0.99      0.99      1071\n",
      "\n"
     ]
    }
   ],
   "source": [
    "print(classification_report(y_test, net.predict(X_test)))"
   ]
  },
  {
   "cell_type": "code",
   "execution_count": 22,
   "metadata": {},
   "outputs": [
    {
     "data": {
      "text/plain": [
       "0.99346405228758172"
      ]
     },
     "execution_count": 22,
     "metadata": {},
     "output_type": "execute_result"
    }
   ],
   "source": [
    "accuracy_score(y_test, net.predict(X_test))"
   ]
  },
  {
   "cell_type": "code",
   "execution_count": 12,
   "metadata": {
    "collapsed": true
   },
   "outputs": [],
   "source": [
    "import matplotlib\n",
    "import matplotlib.pyplot as plt\n",
    "import matplotlib.cm as cm\n",
    "%matplotlib inline"
   ]
  },
  {
   "cell_type": "code",
   "execution_count": 24,
   "metadata": {},
   "outputs": [
    {
     "data": {
      "text/plain": [
       "<module 'matplotlib.pyplot' from 'C:\\\\ProgramData\\\\Anaconda3\\\\lib\\\\site-packages\\\\matplotlib\\\\pyplot.py'>"
      ]
     },
     "execution_count": 24,
     "metadata": {},
     "output_type": "execute_result"
    },
    {
     "data": {
      "image/png": "[encoded data removed]",
      "text/plain": [
       "<matplotlib.figure.Figure at 0xf2823266d8>"
      ]
     },
     "metadata": {},
     "output_type": "display_data"
    }
   ],
   "source": [
    "visualize.plot_loss(net)"
   ]
  },
  {
   "cell_type": "code",
   "execution_count": 25,
   "metadata": {
    "collapsed": true
   },
   "outputs": [],
   "source": [
    "def plot_matrix(clf, X_test, y_test):\n",
    "    \"\"\"Plot Confussion Matrix from a given classifier\"\"\"\n",
    "   \n",
    "    plt.clf()\n",
    "    \n",
    "    cm = confusion_matrix(y_test, clf.predict(X_test))\n",
    "    cm_normalized = cm.astype('float') / cm.sum(axis=1)[:, np.newaxis]\n",
    "    print('Normalized confusion matrix')\n",
    "    cm_normalized[np.isnan(cm_normalized)] = 0.0\n",
    "    print(cm_normalized)\n",
    "    plt.tick_params(labelsize=20)\n",
    "\n",
    "    ax = plt.imshow(cm_normalized, interpolation='nearest', cmap=plt.cm.Blues)\n",
    "    cb = plt.colorbar()\n",
    "    cb.ax.tick_params(axis='both', labelsize=20)\n",
    "    plt.ylabel(\"True label\", fontsize=20)\n",
    "    plt.xlabel(\"Predicted label\", fontsize=20)\n",
    "    plt.xticks(range(3),range(3))\n",
    "    plt.yticks(range(3),range(3))\n",
    "    \n",
    "    return ax\n"
   ]
  },
  {
   "cell_type": "code",
   "execution_count": 26,
   "metadata": {},
   "outputs": [
    {
     "name": "stdout",
     "output_type": "stream",
     "text": [
      "Normalized confusion matrix\n",
      "[[ 1.          0.          0.        ]\n",
      " [ 0.          1.          0.        ]\n",
      " [ 0.03286385  0.          0.96713615]]\n",
      "[[347   0   0]\n",
      " [  0 511   0]\n",
      " [  7   0 206]]\n"
     ]
    },
    {
     "data": {
      "image/png": "[encoded data removed]",
      "text/plain": [
       "<matplotlib.figure.Figure at 0xf28010ce10>"
      ]
     },
     "metadata": {},
     "output_type": "display_data"
    }
   ],
   "source": [
    "plot_matrix(net, X_test, y_test)\n",
    "print(confusion_matrix(y_test, net.predict(X_test)))"
   ]
  },
  {
   "cell_type": "code",
   "execution_count": 27,
   "metadata": {
    "collapsed": true
   },
   "outputs": [],
   "source": [
    "# Guardar red"
   ]
  },
  {
   "cell_type": "code",
   "execution_count": 13,
   "metadata": {
    "collapsed": true
   },
   "outputs": [],
   "source": [
    "import pickle"
   ]
  },
  {
   "cell_type": "code",
   "execution_count": 29,
   "metadata": {
    "collapsed": true
   },
   "outputs": [],
   "source": [
    "with open('../data/face_classifier_ck_256.pickle', 'wb') as f:\n",
    "        pickle.dump(net, f, -1)"
   ]
  },
  {
   "cell_type": "code",
   "execution_count": 30,
   "metadata": {
    "collapsed": true
   },
   "outputs": [],
   "source": [
    "# Cargar red"
   ]
  },
  {
   "cell_type": "code",
   "execution_count": 14,
   "metadata": {
    "collapsed": true
   },
   "outputs": [],
   "source": [
    "net2 = None\n",
    "with open('../data/face_classifier_ck_256.pickle', 'rb') as f:\n",
    "       net2 = pickle.load(f)"
   ]
  },
  {
   "cell_type": "code",
   "execution_count": 35,
   "metadata": {
    "collapsed": true
   },
   "outputs": [],
   "source": [
    "# Mostrar datos de red cargada"
   ]
  },
  {
   "cell_type": "code",
   "execution_count": 15,
   "metadata": {},
   "outputs": [
    {
     "ename": "NameError",
     "evalue": "name 'net' is not defined",
     "output_type": "error",
     "traceback": [
      "\u001b[1;31m---------------------------------------------------------------------------\u001b[0m",
      "\u001b[1;31mNameError\u001b[0m                                 Traceback (most recent call last)",
      "\u001b[1;32m<ipython-input-15-35ab14a82e2a>\u001b[0m in \u001b[0;36m<module>\u001b[1;34m()\u001b[0m\n\u001b[0;32m      2\u001b[0m \u001b[0mlayer_info\u001b[0m \u001b[1;33m=\u001b[0m \u001b[0mPrintLayerInfo\u001b[0m\u001b[1;33m(\u001b[0m\u001b[1;33m)\u001b[0m\u001b[1;33m\u001b[0m\u001b[0m\n\u001b[0;32m      3\u001b[0m \u001b[1;33m\u001b[0m\u001b[0m\n\u001b[1;32m----> 4\u001b[1;33m \u001b[0mnet\u001b[0m\u001b[1;33m.\u001b[0m\u001b[0mverbose\u001b[0m \u001b[1;33m=\u001b[0m \u001b[1;36m1\u001b[0m\u001b[1;33m\u001b[0m\u001b[0m\n\u001b[0m\u001b[0;32m      5\u001b[0m \u001b[0mnet\u001b[0m\u001b[1;33m.\u001b[0m\u001b[0minitialize\u001b[0m\u001b[1;33m(\u001b[0m\u001b[1;33m)\u001b[0m\u001b[1;33m\u001b[0m\u001b[0m\n\u001b[0;32m      6\u001b[0m \u001b[0mlayer_info\u001b[0m\u001b[1;33m(\u001b[0m\u001b[0mnet2\u001b[0m\u001b[1;33m)\u001b[0m\u001b[1;33m\u001b[0m\u001b[0m\n",
      "\u001b[1;31mNameError\u001b[0m: name 'net' is not defined"
     ]
    }
   ],
   "source": [
    "from nolearn.lasagne import PrintLayerInfo\n",
    "layer_info = PrintLayerInfo()\n",
    "\n",
    "net.verbose = 1\n",
    "net.initialize()\n",
    "layer_info(net2)"
   ]
  },
  {
   "cell_type": "code",
   "execution_count": 33,
   "metadata": {
    "collapsed": true
   },
   "outputs": [],
   "source": [
    "# Cargar imagen"
   ]
  },
  {
   "cell_type": "code",
   "execution_count": 25,
   "metadata": {},
   "outputs": [
    {
     "data": {
      "image/png": "[encoded data removed]",
      "text/plain": [
       "<matplotlib.figure.Figure at 0xb715932a20>"
      ]
     },
     "metadata": {},
     "output_type": "display_data"
    }
   ],
   "source": [
    "my_image = cv2.imread(\"../sad_ (20).jpg\", 0)\n",
    "plt.imshow(my_image, cmap='gray')\n",
    "X = np.vstack(my_image) / 255.\n",
    "plt.imshow(X, cmap='gray')\n",
    "X = X.astype(np.float32)\n",
    "X = X.reshape(-1, 1, 128, 128)"
   ]
  },
  {
   "cell_type": "code",
   "execution_count": 40,
   "metadata": {
    "collapsed": true
   },
   "outputs": [],
   "source": [
    "# Clasificar imagen"
   ]
  },
  {
   "cell_type": "code",
   "execution_count": 26,
   "metadata": {},
   "outputs": [
    {
     "data": {
      "text/plain": [
       "array([2], dtype=int64)"
      ]
     },
     "execution_count": 26,
     "metadata": {},
     "output_type": "execute_result"
    }
   ],
   "source": [
    "net2.predict(X)"
   ]
  },
  {
   "cell_type": "code",
   "execution_count": 27,
   "metadata": {},
   "outputs": [
    {
     "data": {
      "text/plain": [
       "(array([[ 0.1087309 ,  0.06000444,  0.83126466]]), 1.0)"
      ]
     },
     "execution_count": 27,
     "metadata": {},
     "output_type": "execute_result"
    }
   ],
   "source": [
    "proba = net2.predict_proba(X)\n",
    "proba, proba.sum()"
   ]
  },
  {
   "cell_type": "code",
   "execution_count": null,
   "metadata": {
    "collapsed": true
   },
   "outputs": [],
   "source": []
  }
 ],
 "metadata": {
  "kernelspec": {
   "display_name": "Python 3",
   "language": "python",
   "name": "python3"
  },
  "language_info": {
   "codemirror_mode": {
    "name": "ipython",
    "version": 3
   },
   "file_extension": ".py",
   "mimetype": "text/x-python",
   "name": "python",
   "nbconvert_exporter": "python",
   "pygments_lexer": "ipython3",
   "version": "3.6.1"
  }
 },
 "nbformat": 4,
 "nbformat_minor": 2
}
