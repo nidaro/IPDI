{
 "cells": [
  {
   "cell_type": "code",
   "execution_count": 1,
   "metadata": {
    "collapsed": true
   },
   "outputs": [],
   "source": [
    "from lasagne import objectives\n",
    "from lasagne import nonlinearities\n",
    "from lasagne import updates\n",
    "from lasagne.layers import InputLayer, Conv2DLayer, DropoutLayer,\\\n",
    "                           MaxPool2DLayer, DenseLayer\n",
    "from lasagne.nonlinearities import rectify"
   ]
  },
  {
   "cell_type": "code",
   "execution_count": 2,
   "metadata": {
    "collapsed": true
   },
   "outputs": [],
   "source": [
    "import os\n",
    "import pandas as pd\n",
    "import cv2"
   ]
  },
  {
   "cell_type": "code",
   "execution_count": 3,
   "metadata": {
    "collapsed": true
   },
   "outputs": [],
   "source": [
    "# Creamos la función para abrir el set de imágenes (tienen que llamarse \"clase\"_\"algo\") y lo guardarlo como \"faces.csv\""
   ]
  },
  {
   "cell_type": "code",
   "execution_count": 4,
   "metadata": {
    "collapsed": true
   },
   "outputs": [],
   "source": [
    "def images_to_file(path_to_photos):\n",
    "    \"\"\" load images from folder and write a csv and return \n",
    "    a pd dataframe with X : Images and y:labels\"\"\"\n",
    "    ids = [os.path.splitext(image_id)[0] for image_id in os.listdir(path_to_photos)]\n",
    "    df_out = pd.DataFrame(columns=['Image', 'Model', 'Model_enc'], index=ids)\n",
    "    for image_file in os.listdir(path_to_photos):\n",
    "            image = cv2.imread(os.path.join(path_to_photos, image_file), 0)\n",
    "            df_out['Image'][os.path.splitext(image_file)[0]] = ' '.join(map(str, image.flatten()))\n",
    "            df_out['Model'][os.path.splitext(image_file)[0]] = image_file.split('_')[0]\n",
    "       \n",
    "    catenc = pd.factorize(df_out['Model'])\n",
    "    df_out['Model_enc'] = catenc[0]\n",
    "    print(catenc)\n",
    "    df_out.to_csv('../faces.csv')\n",
    "    \n",
    "    return df_out"
   ]
  },
  {
   "cell_type": "code",
   "execution_count": 5,
   "metadata": {},
   "outputs": [
    {
     "name": "stdout",
     "output_type": "stream",
     "text": [
      "(array([0, 0, 0, ..., 2, 2, 2], dtype=int64), Index(['angry', 'happy', 'sad'], dtype='object'))\n"
     ]
    },
    {
     "data": {
      "text/html": [
       "<div>\n",
       "<style>\n",
       "    .dataframe thead tr:only-child th {\n",
       "        text-align: right;\n",
       "    }\n",
       "\n",
       "    .dataframe thead th {\n",
       "        text-align: left;\n",
       "    }\n",
       "\n",
       "    .dataframe tbody tr th {\n",
       "        vertical-align: top;\n",
       "    }\n",
       "</style>\n",
       "<table border=\"1\" class=\"dataframe\">\n",
       "  <thead>\n",
       "    <tr style=\"text-align: right;\">\n",
       "      <th></th>\n",
       "      <th>Image</th>\n",
       "      <th>Model</th>\n",
       "      <th>Model_enc</th>\n",
       "    </tr>\n",
       "  </thead>\n",
       "  <tbody>\n",
       "    <tr>\n",
       "      <th>angry_ (1)</th>\n",
       "      <td>170 170 170 171 171 171 171 172 172 172 172 17...</td>\n",
       "      <td>angry</td>\n",
       "      <td>0</td>\n",
       "    </tr>\n",
       "    <tr>\n",
       "      <th>angry_ (10)</th>\n",
       "      <td>164 164 165 166 167 167 168 168 169 169 169 17...</td>\n",
       "      <td>angry</td>\n",
       "      <td>0</td>\n",
       "    </tr>\n",
       "    <tr>\n",
       "      <th>angry_ (100)</th>\n",
       "      <td>164 164 165 166 167 167 168 168 169 169 169 17...</td>\n",
       "      <td>angry</td>\n",
       "      <td>0</td>\n",
       "    </tr>\n",
       "    <tr>\n",
       "      <th>angry_ (101)</th>\n",
       "      <td>163 164 164 165 166 167 167 168 169 169 169 17...</td>\n",
       "      <td>angry</td>\n",
       "      <td>0</td>\n",
       "    </tr>\n",
       "    <tr>\n",
       "      <th>angry_ (102)</th>\n",
       "      <td>163 164 164 165 166 167 167 168 169 169 169 17...</td>\n",
       "      <td>angry</td>\n",
       "      <td>0</td>\n",
       "    </tr>\n",
       "    <tr>\n",
       "      <th>angry_ (103)</th>\n",
       "      <td>163 163 164 165 166 167 168 168 169 170 170 17...</td>\n",
       "      <td>angry</td>\n",
       "      <td>0</td>\n",
       "    </tr>\n",
       "    <tr>\n",
       "      <th>angry_ (104)</th>\n",
       "      <td>163 165 166 166 166 166 168 169 169 169 169 17...</td>\n",
       "      <td>angry</td>\n",
       "      <td>0</td>\n",
       "    </tr>\n",
       "    <tr>\n",
       "      <th>angry_ (105)</th>\n",
       "      <td>164 164 165 166 167 167 168 168 169 169 169 17...</td>\n",
       "      <td>angry</td>\n",
       "      <td>0</td>\n",
       "    </tr>\n",
       "    <tr>\n",
       "      <th>angry_ (106)</th>\n",
       "      <td>163 163 164 165 166 167 168 168 169 170 170 17...</td>\n",
       "      <td>angry</td>\n",
       "      <td>0</td>\n",
       "    </tr>\n",
       "    <tr>\n",
       "      <th>angry_ (107)</th>\n",
       "      <td>163 163 164 165 166 167 168 168 169 169 169 17...</td>\n",
       "      <td>angry</td>\n",
       "      <td>0</td>\n",
       "    </tr>\n",
       "    <tr>\n",
       "      <th>angry_ (108)</th>\n",
       "      <td>163 163 164 165 166 167 168 168 169 170 170 17...</td>\n",
       "      <td>angry</td>\n",
       "      <td>0</td>\n",
       "    </tr>\n",
       "    <tr>\n",
       "      <th>angry_ (109)</th>\n",
       "      <td>164 164 165 166 167 167 168 168 170 170 170 17...</td>\n",
       "      <td>angry</td>\n",
       "      <td>0</td>\n",
       "    </tr>\n",
       "    <tr>\n",
       "      <th>angry_ (11)</th>\n",
       "      <td>163 164 164 165 166 167 167 168 169 169 169 17...</td>\n",
       "      <td>angry</td>\n",
       "      <td>0</td>\n",
       "    </tr>\n",
       "    <tr>\n",
       "      <th>angry_ (110)</th>\n",
       "      <td>166 166 167 167 168 169 170 170 170 170 170 17...</td>\n",
       "      <td>angry</td>\n",
       "      <td>0</td>\n",
       "    </tr>\n",
       "    <tr>\n",
       "      <th>angry_ (111)</th>\n",
       "      <td>165 165 166 167 167 168 169 169 170 170 170 17...</td>\n",
       "      <td>angry</td>\n",
       "      <td>0</td>\n",
       "    </tr>\n",
       "    <tr>\n",
       "      <th>angry_ (112)</th>\n",
       "      <td>167 167 168 168 169 169 170 170 172 172 172 17...</td>\n",
       "      <td>angry</td>\n",
       "      <td>0</td>\n",
       "    </tr>\n",
       "    <tr>\n",
       "      <th>angry_ (113)</th>\n",
       "      <td>168 168 168 169 170 170 170 171 171 171 171 17...</td>\n",
       "      <td>angry</td>\n",
       "      <td>0</td>\n",
       "    </tr>\n",
       "    <tr>\n",
       "      <th>angry_ (114)</th>\n",
       "      <td>167 167 168 168 169 169 170 170 171 171 171 17...</td>\n",
       "      <td>angry</td>\n",
       "      <td>0</td>\n",
       "    </tr>\n",
       "    <tr>\n",
       "      <th>angry_ (115)</th>\n",
       "      <td>167 167 168 168 169 169 170 170 171 171 171 17...</td>\n",
       "      <td>angry</td>\n",
       "      <td>0</td>\n",
       "    </tr>\n",
       "    <tr>\n",
       "      <th>angry_ (116)</th>\n",
       "      <td>168 168 168 169 170 170 170 171 170 170 171 17...</td>\n",
       "      <td>angry</td>\n",
       "      <td>0</td>\n",
       "    </tr>\n",
       "    <tr>\n",
       "      <th>angry_ (117)</th>\n",
       "      <td>166 166 167 167 168 169 170 170 171 171 171 17...</td>\n",
       "      <td>angry</td>\n",
       "      <td>0</td>\n",
       "    </tr>\n",
       "    <tr>\n",
       "      <th>angry_ (118)</th>\n",
       "      <td>166 166 166 167 167 168 168 168 171 171 171 17...</td>\n",
       "      <td>angry</td>\n",
       "      <td>0</td>\n",
       "    </tr>\n",
       "    <tr>\n",
       "      <th>angry_ (119)</th>\n",
       "      <td>164 164 165 167 167 168 168 168 170 170 170 17...</td>\n",
       "      <td>angry</td>\n",
       "      <td>0</td>\n",
       "    </tr>\n",
       "    <tr>\n",
       "      <th>angry_ (12)</th>\n",
       "      <td>163 164 164 165 166 167 167 168 169 169 169 17...</td>\n",
       "      <td>angry</td>\n",
       "      <td>0</td>\n",
       "    </tr>\n",
       "    <tr>\n",
       "      <th>angry_ (120)</th>\n",
       "      <td>162 162 163 164 165 166 167 168 169 169 169 17...</td>\n",
       "      <td>angry</td>\n",
       "      <td>0</td>\n",
       "    </tr>\n",
       "    <tr>\n",
       "      <th>angry_ (121)</th>\n",
       "      <td>158 160 161 162 163 163 165 167 166 167 167 16...</td>\n",
       "      <td>angry</td>\n",
       "      <td>0</td>\n",
       "    </tr>\n",
       "    <tr>\n",
       "      <th>angry_ (122)</th>\n",
       "      <td>158 158 157 157 158 160 161 162 163 164 165 16...</td>\n",
       "      <td>angry</td>\n",
       "      <td>0</td>\n",
       "    </tr>\n",
       "    <tr>\n",
       "      <th>angry_ (123)</th>\n",
       "      <td>159 158 157 156 156 155 156 156 157 158 160 16...</td>\n",
       "      <td>angry</td>\n",
       "      <td>0</td>\n",
       "    </tr>\n",
       "    <tr>\n",
       "      <th>angry_ (124)</th>\n",
       "      <td>160 160 160 160 160 159 158 157 158 157 156 15...</td>\n",
       "      <td>angry</td>\n",
       "      <td>0</td>\n",
       "    </tr>\n",
       "    <tr>\n",
       "      <th>angry_ (125)</th>\n",
       "      <td>160 160 160 160 160 161 161 161 159 159 159 15...</td>\n",
       "      <td>angry</td>\n",
       "      <td>0</td>\n",
       "    </tr>\n",
       "    <tr>\n",
       "      <th>...</th>\n",
       "      <td>...</td>\n",
       "      <td>...</td>\n",
       "      <td>...</td>\n",
       "    </tr>\n",
       "    <tr>\n",
       "      <th>sad_ (72)</th>\n",
       "      <td>112 112 113 113 113 113 114 114 115 114 115 11...</td>\n",
       "      <td>sad</td>\n",
       "      <td>2</td>\n",
       "    </tr>\n",
       "    <tr>\n",
       "      <th>sad_ (73)</th>\n",
       "      <td>112 112 112 113 113 114 114 114 117 115 118 12...</td>\n",
       "      <td>sad</td>\n",
       "      <td>2</td>\n",
       "    </tr>\n",
       "    <tr>\n",
       "      <th>sad_ (74)</th>\n",
       "      <td>112 113 113 113 113 114 114 114 115 114 113 11...</td>\n",
       "      <td>sad</td>\n",
       "      <td>2</td>\n",
       "    </tr>\n",
       "    <tr>\n",
       "      <th>sad_ (75)</th>\n",
       "      <td>112 113 113 114 114 115 115 115 113 115 116 11...</td>\n",
       "      <td>sad</td>\n",
       "      <td>2</td>\n",
       "    </tr>\n",
       "    <tr>\n",
       "      <th>sad_ (76)</th>\n",
       "      <td>114 114 114 114 115 115 115 115 118 116 117 11...</td>\n",
       "      <td>sad</td>\n",
       "      <td>2</td>\n",
       "    </tr>\n",
       "    <tr>\n",
       "      <th>sad_ (77)</th>\n",
       "      <td>113 113 114 114 115 115 116 116 118 117 115 11...</td>\n",
       "      <td>sad</td>\n",
       "      <td>2</td>\n",
       "    </tr>\n",
       "    <tr>\n",
       "      <th>sad_ (78)</th>\n",
       "      <td>113 114 115 116 116 115 114 114 117 116 116 11...</td>\n",
       "      <td>sad</td>\n",
       "      <td>2</td>\n",
       "    </tr>\n",
       "    <tr>\n",
       "      <th>sad_ (79)</th>\n",
       "      <td>113 114 115 115 115 115 115 115 112 115 115 11...</td>\n",
       "      <td>sad</td>\n",
       "      <td>2</td>\n",
       "    </tr>\n",
       "    <tr>\n",
       "      <th>sad_ (8)</th>\n",
       "      <td>110 110 111 111 112 112 113 113 114 113 112 11...</td>\n",
       "      <td>sad</td>\n",
       "      <td>2</td>\n",
       "    </tr>\n",
       "    <tr>\n",
       "      <th>sad_ (80)</th>\n",
       "      <td>117 116 115 116 118 118 116 114 114 117 116 11...</td>\n",
       "      <td>sad</td>\n",
       "      <td>2</td>\n",
       "    </tr>\n",
       "    <tr>\n",
       "      <th>sad_ (81)</th>\n",
       "      <td>117 115 114 117 117 114 113 116 121 119 116 11...</td>\n",
       "      <td>sad</td>\n",
       "      <td>2</td>\n",
       "    </tr>\n",
       "    <tr>\n",
       "      <th>sad_ (82)</th>\n",
       "      <td>117 116 116 115 115 116 116 117 116 118 119 11...</td>\n",
       "      <td>sad</td>\n",
       "      <td>2</td>\n",
       "    </tr>\n",
       "    <tr>\n",
       "      <th>sad_ (83)</th>\n",
       "      <td>116 115 114 114 115 116 118 120 117 118 120 12...</td>\n",
       "      <td>sad</td>\n",
       "      <td>2</td>\n",
       "    </tr>\n",
       "    <tr>\n",
       "      <th>sad_ (84)</th>\n",
       "      <td>116 115 115 116 117 118 119 119 118 120 120 11...</td>\n",
       "      <td>sad</td>\n",
       "      <td>2</td>\n",
       "    </tr>\n",
       "    <tr>\n",
       "      <th>sad_ (85)</th>\n",
       "      <td>116 116 117 117 118 118 119 119 119 120 121 12...</td>\n",
       "      <td>sad</td>\n",
       "      <td>2</td>\n",
       "    </tr>\n",
       "    <tr>\n",
       "      <th>sad_ (86)</th>\n",
       "      <td>117 117 117 118 119 119 119 120 121 118 118 12...</td>\n",
       "      <td>sad</td>\n",
       "      <td>2</td>\n",
       "    </tr>\n",
       "    <tr>\n",
       "      <th>sad_ (87)</th>\n",
       "      <td>117 117 118 118 119 119 120 120 120 117 117 12...</td>\n",
       "      <td>sad</td>\n",
       "      <td>2</td>\n",
       "    </tr>\n",
       "    <tr>\n",
       "      <th>sad_ (88)</th>\n",
       "      <td>109 109 109 110 110 111 111 111 118 114 111 11...</td>\n",
       "      <td>sad</td>\n",
       "      <td>2</td>\n",
       "    </tr>\n",
       "    <tr>\n",
       "      <th>sad_ (89)</th>\n",
       "      <td>140 141 142 143 143 143 143 143 143 143 143 14...</td>\n",
       "      <td>sad</td>\n",
       "      <td>2</td>\n",
       "    </tr>\n",
       "    <tr>\n",
       "      <th>sad_ (9)</th>\n",
       "      <td>110 110 111 111 112 112 113 113 115 116 113 11...</td>\n",
       "      <td>sad</td>\n",
       "      <td>2</td>\n",
       "    </tr>\n",
       "    <tr>\n",
       "      <th>sad_ (90)</th>\n",
       "      <td>145 139 137 142 145 143 142 143 142 142 142 14...</td>\n",
       "      <td>sad</td>\n",
       "      <td>2</td>\n",
       "    </tr>\n",
       "    <tr>\n",
       "      <th>sad_ (91)</th>\n",
       "      <td>145 138 134 136 138 135 134 135 135 135 135 13...</td>\n",
       "      <td>sad</td>\n",
       "      <td>2</td>\n",
       "    </tr>\n",
       "    <tr>\n",
       "      <th>sad_ (92)</th>\n",
       "      <td>150 142 137 139 141 139 138 140 139 139 139 13...</td>\n",
       "      <td>sad</td>\n",
       "      <td>2</td>\n",
       "    </tr>\n",
       "    <tr>\n",
       "      <th>sad_ (93)</th>\n",
       "      <td>145 139 135 139 141 139 138 138 138 138 138 13...</td>\n",
       "      <td>sad</td>\n",
       "      <td>2</td>\n",
       "    </tr>\n",
       "    <tr>\n",
       "      <th>sad_ (94)</th>\n",
       "      <td>146 139 135 137 139 137 136 138 137 136 136 13...</td>\n",
       "      <td>sad</td>\n",
       "      <td>2</td>\n",
       "    </tr>\n",
       "    <tr>\n",
       "      <th>sad_ (95)</th>\n",
       "      <td>145 138 135 137 138 137 136 139 135 135 135 13...</td>\n",
       "      <td>sad</td>\n",
       "      <td>2</td>\n",
       "    </tr>\n",
       "    <tr>\n",
       "      <th>sad_ (96)</th>\n",
       "      <td>145 138 134 137 140 139 138 140 137 136 136 13...</td>\n",
       "      <td>sad</td>\n",
       "      <td>2</td>\n",
       "    </tr>\n",
       "    <tr>\n",
       "      <th>sad_ (97)</th>\n",
       "      <td>147 141 138 140 141 139 138 140 140 140 140 14...</td>\n",
       "      <td>sad</td>\n",
       "      <td>2</td>\n",
       "    </tr>\n",
       "    <tr>\n",
       "      <th>sad_ (98)</th>\n",
       "      <td>152 138 130 136 141 137 135 137 138 138 138 13...</td>\n",
       "      <td>sad</td>\n",
       "      <td>2</td>\n",
       "    </tr>\n",
       "    <tr>\n",
       "      <th>sad_ (99)</th>\n",
       "      <td>144 141 138 139 142 143 142 140 139 139 139 13...</td>\n",
       "      <td>sad</td>\n",
       "      <td>2</td>\n",
       "    </tr>\n",
       "  </tbody>\n",
       "</table>\n",
       "<p>1191 rows × 3 columns</p>\n",
       "</div>"
      ],
      "text/plain": [
       "                                                          Image  Model  \\\n",
       "angry_ (1)    170 170 170 171 171 171 171 172 172 172 172 17...  angry   \n",
       "angry_ (10)   164 164 165 166 167 167 168 168 169 169 169 17...  angry   \n",
       "angry_ (100)  164 164 165 166 167 167 168 168 169 169 169 17...  angry   \n",
       "angry_ (101)  163 164 164 165 166 167 167 168 169 169 169 17...  angry   \n",
       "angry_ (102)  163 164 164 165 166 167 167 168 169 169 169 17...  angry   \n",
       "angry_ (103)  163 163 164 165 166 167 168 168 169 170 170 17...  angry   \n",
       "angry_ (104)  163 165 166 166 166 166 168 169 169 169 169 17...  angry   \n",
       "angry_ (105)  164 164 165 166 167 167 168 168 169 169 169 17...  angry   \n",
       "angry_ (106)  163 163 164 165 166 167 168 168 169 170 170 17...  angry   \n",
       "angry_ (107)  163 163 164 165 166 167 168 168 169 169 169 17...  angry   \n",
       "angry_ (108)  163 163 164 165 166 167 168 168 169 170 170 17...  angry   \n",
       "angry_ (109)  164 164 165 166 167 167 168 168 170 170 170 17...  angry   \n",
       "angry_ (11)   163 164 164 165 166 167 167 168 169 169 169 17...  angry   \n",
       "angry_ (110)  166 166 167 167 168 169 170 170 170 170 170 17...  angry   \n",
       "angry_ (111)  165 165 166 167 167 168 169 169 170 170 170 17...  angry   \n",
       "angry_ (112)  167 167 168 168 169 169 170 170 172 172 172 17...  angry   \n",
       "angry_ (113)  168 168 168 169 170 170 170 171 171 171 171 17...  angry   \n",
       "angry_ (114)  167 167 168 168 169 169 170 170 171 171 171 17...  angry   \n",
       "angry_ (115)  167 167 168 168 169 169 170 170 171 171 171 17...  angry   \n",
       "angry_ (116)  168 168 168 169 170 170 170 171 170 170 171 17...  angry   \n",
       "angry_ (117)  166 166 167 167 168 169 170 170 171 171 171 17...  angry   \n",
       "angry_ (118)  166 166 166 167 167 168 168 168 171 171 171 17...  angry   \n",
       "angry_ (119)  164 164 165 167 167 168 168 168 170 170 170 17...  angry   \n",
       "angry_ (12)   163 164 164 165 166 167 167 168 169 169 169 17...  angry   \n",
       "angry_ (120)  162 162 163 164 165 166 167 168 169 169 169 17...  angry   \n",
       "angry_ (121)  158 160 161 162 163 163 165 167 166 167 167 16...  angry   \n",
       "angry_ (122)  158 158 157 157 158 160 161 162 163 164 165 16...  angry   \n",
       "angry_ (123)  159 158 157 156 156 155 156 156 157 158 160 16...  angry   \n",
       "angry_ (124)  160 160 160 160 160 159 158 157 158 157 156 15...  angry   \n",
       "angry_ (125)  160 160 160 160 160 161 161 161 159 159 159 15...  angry   \n",
       "...                                                         ...    ...   \n",
       "sad_ (72)     112 112 113 113 113 113 114 114 115 114 115 11...    sad   \n",
       "sad_ (73)     112 112 112 113 113 114 114 114 117 115 118 12...    sad   \n",
       "sad_ (74)     112 113 113 113 113 114 114 114 115 114 113 11...    sad   \n",
       "sad_ (75)     112 113 113 114 114 115 115 115 113 115 116 11...    sad   \n",
       "sad_ (76)     114 114 114 114 115 115 115 115 118 116 117 11...    sad   \n",
       "sad_ (77)     113 113 114 114 115 115 116 116 118 117 115 11...    sad   \n",
       "sad_ (78)     113 114 115 116 116 115 114 114 117 116 116 11...    sad   \n",
       "sad_ (79)     113 114 115 115 115 115 115 115 112 115 115 11...    sad   \n",
       "sad_ (8)      110 110 111 111 112 112 113 113 114 113 112 11...    sad   \n",
       "sad_ (80)     117 116 115 116 118 118 116 114 114 117 116 11...    sad   \n",
       "sad_ (81)     117 115 114 117 117 114 113 116 121 119 116 11...    sad   \n",
       "sad_ (82)     117 116 116 115 115 116 116 117 116 118 119 11...    sad   \n",
       "sad_ (83)     116 115 114 114 115 116 118 120 117 118 120 12...    sad   \n",
       "sad_ (84)     116 115 115 116 117 118 119 119 118 120 120 11...    sad   \n",
       "sad_ (85)     116 116 117 117 118 118 119 119 119 120 121 12...    sad   \n",
       "sad_ (86)     117 117 117 118 119 119 119 120 121 118 118 12...    sad   \n",
       "sad_ (87)     117 117 118 118 119 119 120 120 120 117 117 12...    sad   \n",
       "sad_ (88)     109 109 109 110 110 111 111 111 118 114 111 11...    sad   \n",
       "sad_ (89)     140 141 142 143 143 143 143 143 143 143 143 14...    sad   \n",
       "sad_ (9)      110 110 111 111 112 112 113 113 115 116 113 11...    sad   \n",
       "sad_ (90)     145 139 137 142 145 143 142 143 142 142 142 14...    sad   \n",
       "sad_ (91)     145 138 134 136 138 135 134 135 135 135 135 13...    sad   \n",
       "sad_ (92)     150 142 137 139 141 139 138 140 139 139 139 13...    sad   \n",
       "sad_ (93)     145 139 135 139 141 139 138 138 138 138 138 13...    sad   \n",
       "sad_ (94)     146 139 135 137 139 137 136 138 137 136 136 13...    sad   \n",
       "sad_ (95)     145 138 135 137 138 137 136 139 135 135 135 13...    sad   \n",
       "sad_ (96)     145 138 134 137 140 139 138 140 137 136 136 13...    sad   \n",
       "sad_ (97)     147 141 138 140 141 139 138 140 140 140 140 14...    sad   \n",
       "sad_ (98)     152 138 130 136 141 137 135 137 138 138 138 13...    sad   \n",
       "sad_ (99)     144 141 138 139 142 143 142 140 139 139 139 13...    sad   \n",
       "\n",
       "              Model_enc  \n",
       "angry_ (1)            0  \n",
       "angry_ (10)           0  \n",
       "angry_ (100)          0  \n",
       "angry_ (101)          0  \n",
       "angry_ (102)          0  \n",
       "angry_ (103)          0  \n",
       "angry_ (104)          0  \n",
       "angry_ (105)          0  \n",
       "angry_ (106)          0  \n",
       "angry_ (107)          0  \n",
       "angry_ (108)          0  \n",
       "angry_ (109)          0  \n",
       "angry_ (11)           0  \n",
       "angry_ (110)          0  \n",
       "angry_ (111)          0  \n",
       "angry_ (112)          0  \n",
       "angry_ (113)          0  \n",
       "angry_ (114)          0  \n",
       "angry_ (115)          0  \n",
       "angry_ (116)          0  \n",
       "angry_ (117)          0  \n",
       "angry_ (118)          0  \n",
       "angry_ (119)          0  \n",
       "angry_ (12)           0  \n",
       "angry_ (120)          0  \n",
       "angry_ (121)          0  \n",
       "angry_ (122)          0  \n",
       "angry_ (123)          0  \n",
       "angry_ (124)          0  \n",
       "angry_ (125)          0  \n",
       "...                 ...  \n",
       "sad_ (72)             2  \n",
       "sad_ (73)             2  \n",
       "sad_ (74)             2  \n",
       "sad_ (75)             2  \n",
       "sad_ (76)             2  \n",
       "sad_ (77)             2  \n",
       "sad_ (78)             2  \n",
       "sad_ (79)             2  \n",
       "sad_ (8)              2  \n",
       "sad_ (80)             2  \n",
       "sad_ (81)             2  \n",
       "sad_ (82)             2  \n",
       "sad_ (83)             2  \n",
       "sad_ (84)             2  \n",
       "sad_ (85)             2  \n",
       "sad_ (86)             2  \n",
       "sad_ (87)             2  \n",
       "sad_ (88)             2  \n",
       "sad_ (89)             2  \n",
       "sad_ (9)              2  \n",
       "sad_ (90)             2  \n",
       "sad_ (91)             2  \n",
       "sad_ (92)             2  \n",
       "sad_ (93)             2  \n",
       "sad_ (94)             2  \n",
       "sad_ (95)             2  \n",
       "sad_ (96)             2  \n",
       "sad_ (97)             2  \n",
       "sad_ (98)             2  \n",
       "sad_ (99)             2  \n",
       "\n",
       "[1191 rows x 3 columns]"
      ]
     },
     "execution_count": 5,
     "metadata": {},
     "output_type": "execute_result"
    }
   ],
   "source": [
    "images_to_file(\"../dataset IPDI/\")"
   ]
  },
  {
   "cell_type": "code",
   "execution_count": 6,
   "metadata": {
    "collapsed": true
   },
   "outputs": [],
   "source": [
    "import numpy as np\n",
    "from sklearn.utils import shuffle"
   ]
  },
  {
   "cell_type": "code",
   "execution_count": 7,
   "metadata": {
    "collapsed": true
   },
   "outputs": [],
   "source": [
    "def load(images_dir=\"../dataset IPDI/\", face_net_fn = '../faces.csv'):\n",
    "    \"\"\"Load images and target class for Angry, Happy and Sad faces.\"\"\"\n",
    "    \n",
    "    if os.path.exists(face_net_fn):\n",
    "        df = pd.read_csv(face_net_fn)\n",
    "    else:\n",
    "        df = images_to_file(images_dir)\n",
    "    df['Image'] = df['Image'].apply(lambda im: np.fromstring(im, sep=' '))\n",
    "\n",
    "    X = np.vstack(df['Image'].values) / 255.\n",
    "    X = X.astype(np.float32)\n",
    "\n",
    "    y = df['Model_enc'].values\n",
    "    X, y = shuffle(X, y, random_state=42)\n",
    "    y = y.astype(np.int32)\n",
    "    \n",
    "    return X, y"
   ]
  },
  {
   "cell_type": "code",
   "execution_count": 8,
   "metadata": {
    "collapsed": true
   },
   "outputs": [],
   "source": [
    "import warnings; warnings.simplefilter('ignore')\n",
    "import theano\n",
    "import lasagne\n",
    "from lasagne.updates import nesterov_momentum\n",
    "from nolearn.lasagne import NeuralNet\n",
    "from lasagne.layers import InputLayer, Conv2DLayer, DropoutLayer,\\\n",
    "                           MaxPool2DLayer, DenseLayer\n",
    "from lasagne.objectives import categorical_crossentropy\n",
    "from nolearn.lasagne import BatchIterator"
   ]
  },
  {
   "cell_type": "code",
   "execution_count": 9,
   "metadata": {
    "collapsed": true
   },
   "outputs": [],
   "source": [
    "layers_0 = [\n",
    "    # layer dealing with the input data\n",
    "    (InputLayer, {'shape': (None, 1, 128, 128)}),\n",
    "\n",
    "    # first stage of our convolutional layers\n",
    "    (Conv2DLayer, {'num_filters': 16, 'filter_size': 5}),\n",
    "    (Conv2DLayer, {'num_filters': 16, 'filter_size': 3}),\n",
    "    \n",
    "    #Extra layer (pad con \"same\" no anda)\n",
    "    (Conv2DLayer, {'num_filters': 16, 'filter_size': 5, 'pad': 'full'}),\n",
    "    (Conv2DLayer, {'num_filters': 16, 'filter_size': 5}),\n",
    "    #end extra layer\n",
    "    \n",
    "    (MaxPool2DLayer, {'pool_size': 2}),\n",
    "\n",
    "    # second stage of our convolutional layers\n",
    "    (Conv2DLayer, {'num_filters': 32, 'filter_size': 3}),\n",
    "    (Conv2DLayer, {'num_filters': 32, 'filter_size': 3}),\n",
    "    \n",
    "    #Extra layer (pad con \"same\" no anda)\n",
    "    (Conv2DLayer, {'num_filters': 32, 'filter_size': 3, 'pad': 'full'}),\n",
    "    (Conv2DLayer, {'num_filters': 32, 'filter_size': 3}),\n",
    "    #end extra layer\n",
    "    \n",
    "    (MaxPool2DLayer, {'pool_size': 2}),\n",
    "\n",
    "    # two dense layers with dropout\n",
    "    (DenseLayer, {'num_units': 64}),\n",
    "    (DropoutLayer, {}),\n",
    "    (DenseLayer, {'num_units': 64}),\n",
    "\n",
    "    # the output layer\n",
    "    (DenseLayer, {'num_units': 3, 'nonlinearity': lasagne.nonlinearities.softmax}),\n",
    "]\n"
   ]
  },
  {
   "cell_type": "code",
   "execution_count": 10,
   "metadata": {
    "collapsed": true
   },
   "outputs": [],
   "source": [
    "def create_net(max_epochs=100):\n",
    "    return NeuralNet(\n",
    "        layers=layers_0,\n",
    "        update=nesterov_momentum,\n",
    "        update_learning_rate=0.008,\n",
    "        regression=False,\n",
    "        objective_loss_function=categorical_crossentropy,\n",
    "        #batch_iterator_train=BatchIterator(batch_size=256),\n",
    "        #on_epoch_finished=[\n",
    "        #    AdjustVariable('update_learning_rate', start=0.03, stop=0.001),\n",
    "        #    AdjustVariable('update_momentum', start=0.9, stop=0.9999)  # ,\n",
    "        #],\n",
    "        max_epochs=max_epochs,\n",
    "        verbose=1)"
   ]
  },
  {
   "cell_type": "code",
   "execution_count": 11,
   "metadata": {
    "collapsed": true
   },
   "outputs": [],
   "source": [
    "# Definir set de entrenamiento"
   ]
  },
  {
   "cell_type": "code",
   "execution_count": 12,
   "metadata": {},
   "outputs": [
    {
     "name": "stdout",
     "output_type": "stream",
     "text": [
      "(952, 1, 128, 128)\n"
     ]
    }
   ],
   "source": [
    "from sklearn.cross_validation import train_test_split\n",
    "x, y = load()\n",
    "x = x.reshape(-1, 1, 128, 128)\n",
    "X_train, X_test, y_train, y_test = train_test_split(x, y,\n",
    "                                                    test_size=0.2,\n",
    "                                                    random_state=42)\n",
    "print(X_train.shape)"
   ]
  },
  {
   "cell_type": "code",
   "execution_count": 13,
   "metadata": {
    "collapsed": true
   },
   "outputs": [],
   "source": [
    "# Crear y entrenar red"
   ]
  },
  {
   "cell_type": "code",
   "execution_count": 14,
   "metadata": {},
   "outputs": [
    {
     "name": "stdout",
     "output_type": "stream",
     "text": [
      "# Neural Network with 1658003 learnable parameters\n",
      "\n",
      "## Layer information\n",
      "\n",
      "  #  name         size\n",
      "---  -----------  ----------\n",
      "  0  input0       1x128x128\n",
      "  1  conv2d1      16x124x124\n",
      "  2  conv2d2      16x122x122\n",
      "  3  conv2d3      16x126x126\n",
      "  4  conv2d4      16x122x122\n",
      "  5  maxpool2d5   16x61x61\n",
      "  6  conv2d6      32x59x59\n",
      "  7  conv2d7      32x57x57\n",
      "  8  conv2d8      32x59x59\n",
      "  9  conv2d9      32x57x57\n",
      " 10  maxpool2d10  32x28x28\n",
      " 11  dense11      64\n",
      " 12  dropout12    64\n",
      " 13  dense13      64\n",
      " 14  dense14      3\n",
      "\n",
      "  epoch    trn loss    val loss    trn/val    valid acc  dur\n",
      "-------  ----------  ----------  ---------  -----------  -------\n",
      "      1     \u001b[36m1.09593\u001b[0m     \u001b[32m1.09046\u001b[0m    1.00502      0.49479  488.23s\n",
      "      2     \u001b[36m1.08778\u001b[0m     \u001b[32m1.07781\u001b[0m    1.00925      0.52083  487.80s\n",
      "      3     \u001b[36m1.06861\u001b[0m     \u001b[32m1.03900\u001b[0m    1.02849      0.54167  487.21s\n",
      "      4     \u001b[36m1.00574\u001b[0m     \u001b[32m0.98327\u001b[0m    1.02285      0.52083  487.58s\n",
      "      5     \u001b[36m0.91803\u001b[0m     \u001b[32m0.50445\u001b[0m    1.81985      0.83854  487.39s\n",
      "      6     \u001b[36m0.91632\u001b[0m     0.72085    1.27115      0.78646  487.01s\n",
      "      7     \u001b[36m0.64764\u001b[0m     \u001b[32m0.34800\u001b[0m    1.86104      0.84375  485.67s\n",
      "      8     \u001b[36m0.52282\u001b[0m     0.48987    1.06728      0.77083  484.95s\n",
      "      9     0.55972     \u001b[32m0.27029\u001b[0m    2.07081      0.86979  485.29s\n",
      "     10     \u001b[36m0.38008\u001b[0m     0.30981    1.22683      0.88542  487.96s\n",
      "     11     0.39730     \u001b[32m0.15537\u001b[0m    2.55720      0.91667  489.46s\n",
      "     12     \u001b[36m0.30115\u001b[0m     0.23694    1.27103      0.89583  488.44s\n",
      "     13     0.30673     \u001b[32m0.11149\u001b[0m    2.75109      0.96354  484.30s\n",
      "     14     \u001b[36m0.25650\u001b[0m     \u001b[32m0.10766\u001b[0m    2.38242      0.97396  508.28s\n",
      "     15     \u001b[36m0.24151\u001b[0m     \u001b[32m0.06035\u001b[0m    4.00210      0.97396  504.34s\n",
      "     16     \u001b[36m0.18375\u001b[0m     0.06664    2.75732      0.96354  496.71s\n",
      "     17     0.19714     \u001b[32m0.04581\u001b[0m    4.30354      0.98958  505.70s\n",
      "     18     \u001b[36m0.17129\u001b[0m     \u001b[32m0.01756\u001b[0m    9.75271      1.00000  499.36s\n",
      "     19     \u001b[36m0.10047\u001b[0m     0.02620    3.83384      0.98438  483.92s\n",
      "     20     \u001b[36m0.09501\u001b[0m     0.02202    4.31499      0.99479  485.66s\n"
     ]
    },
    {
     "data": {
      "text/plain": [
       "NeuralNet(X_tensor_type=None,\n",
       "     batch_iterator_test=<nolearn.lasagne.base.BatchIterator object at 0x000000A4ABD41B70>,\n",
       "     batch_iterator_train=<nolearn.lasagne.base.BatchIterator object at 0x000000A4ABD41B38>,\n",
       "     check_input=True, custom_scores=None,\n",
       "     layers=[(<class 'lasagne.layers.input.InputLayer'>, {'shape': (None, 1, 128, 128)}), (<class 'lasagne.layers.conv.Conv2DLayer'>, {'num_filters': 16, 'filter_size': 5}), (<class 'lasagne.layers.conv.Conv2DLayer'>, {'num_filters': 16, 'filter_size': 3}), (<class 'lasagne.layers.conv.Conv2DLayer'>, {'n...ers.dense.DenseLayer'>, {'num_units': 3, 'nonlinearity': <function softmax at 0x000000A4A8510730>})],\n",
       "     loss=None, max_epochs=20, more_params={},\n",
       "     objective=<function objective at 0x000000A4ABE757B8>,\n",
       "     objective_loss_function=<function categorical_crossentropy at 0x000000A4A83A1510>,\n",
       "     on_batch_finished=[],\n",
       "     on_epoch_finished=[<nolearn.lasagne.handlers.PrintLog object at 0x000000A4B02FFF98>],\n",
       "     on_training_finished=[],\n",
       "     on_training_started=[<nolearn.lasagne.handlers.PrintLayerInfo object at 0x000000A4ABE746A0>],\n",
       "     regression=False, scores_train=[], scores_valid=[],\n",
       "     train_split=<nolearn.lasagne.base.TrainSplit object at 0x000000A4ABD41BE0>,\n",
       "     update=<function nesterov_momentum at 0x000000A4A83A40D0>,\n",
       "     update_learning_rate=0.008, use_label_encoder=False, verbose=1,\n",
       "     y_tensor_type=TensorType(int32, vector))"
      ]
     },
     "execution_count": 14,
     "metadata": {},
     "output_type": "execute_result"
    }
   ],
   "source": [
    "net = create_net(20)\n",
    "net.fit(X_train, y_train)"
   ]
  },
  {
   "cell_type": "code",
   "execution_count": 23,
   "metadata": {
    "collapsed": true
   },
   "outputs": [],
   "source": [
    "# Mostrar errores de clasif. durante entrenamiento y post-entrenamiento"
   ]
  },
  {
   "cell_type": "code",
   "execution_count": 15,
   "metadata": {
    "collapsed": true
   },
   "outputs": [],
   "source": [
    "from sklearn.metrics import classification_report, accuracy_score\n",
    "from sklearn.metrics import confusion_matrix\n",
    "from nolearn.lasagne import visualize"
   ]
  },
  {
   "cell_type": "code",
   "execution_count": 16,
   "metadata": {},
   "outputs": [
    {
     "name": "stdout",
     "output_type": "stream",
     "text": [
      "             precision    recall  f1-score   support\n",
      "\n",
      "          0       1.00      1.00      1.00        78\n",
      "          1       1.00      0.98      0.99        98\n",
      "          2       0.97      1.00      0.98        63\n",
      "\n",
      "avg / total       0.99      0.99      0.99       239\n",
      "\n"
     ]
    }
   ],
   "source": [
    "print(classification_report(y_test, net.predict(X_test)))"
   ]
  },
  {
   "cell_type": "code",
   "execution_count": 17,
   "metadata": {},
   "outputs": [
    {
     "data": {
      "text/plain": [
       "0.99163179916317989"
      ]
     },
     "execution_count": 17,
     "metadata": {},
     "output_type": "execute_result"
    }
   ],
   "source": [
    "accuracy_score(y_test, net.predict(X_test))"
   ]
  },
  {
   "cell_type": "code",
   "execution_count": 18,
   "metadata": {
    "collapsed": true
   },
   "outputs": [],
   "source": [
    "import matplotlib\n",
    "import matplotlib.pyplot as plt\n",
    "import matplotlib.cm as cm\n",
    "%matplotlib inline"
   ]
  },
  {
   "cell_type": "code",
   "execution_count": 19,
   "metadata": {},
   "outputs": [
    {
     "data": {
      "text/plain": [
       "<module 'matplotlib.pyplot' from 'C:\\\\ProgramData\\\\Anaconda3\\\\lib\\\\site-packages\\\\matplotlib\\\\pyplot.py'>"
      ]
     },
     "execution_count": 19,
     "metadata": {},
     "output_type": "execute_result"
    },
    {
     "data": {
      "image/png": "[encoded data removed]",
      "text/plain": [
       "<matplotlib.figure.Figure at 0xa4abe744a8>"
      ]
     },
     "metadata": {},
     "output_type": "display_data"
    }
   ],
   "source": [
    "visualize.plot_loss(net)"
   ]
  },
  {
   "cell_type": "code",
   "execution_count": 20,
   "metadata": {
    "collapsed": true
   },
   "outputs": [],
   "source": [
    "def plot_matrix(clf, X_test, y_test):\n",
    "    \"\"\"Plot Confussion Matrix from a given classifier\"\"\"\n",
    "   \n",
    "    plt.clf()\n",
    "    \n",
    "    cm = confusion_matrix(y_test, clf.predict(X_test))\n",
    "    cm_normalized = cm.astype('float') / cm.sum(axis=1)[:, np.newaxis]\n",
    "    print('Normalized confusion matrix')\n",
    "    cm_normalized[np.isnan(cm_normalized)] = 0.0\n",
    "    print(cm_normalized)\n",
    "    plt.tick_params(labelsize=20)\n",
    "\n",
    "    ax = plt.imshow(cm_normalized, interpolation='nearest', cmap=plt.cm.Blues)\n",
    "    cb = plt.colorbar()\n",
    "    cb.ax.tick_params(axis='both', labelsize=20)\n",
    "    plt.ylabel(\"True label\", fontsize=20)\n",
    "    plt.xlabel(\"Predicted label\", fontsize=20)\n",
    "    plt.xticks(range(3),range(3))\n",
    "    plt.yticks(range(3),range(3))\n",
    "    \n",
    "    return ax\n"
   ]
  },
  {
   "cell_type": "code",
   "execution_count": 21,
   "metadata": {},
   "outputs": [
    {
     "name": "stdout",
     "output_type": "stream",
     "text": [
      "Normalized confusion matrix\n",
      "[[ 1.          0.          0.        ]\n",
      " [ 0.          0.97959184  0.02040816]\n",
      " [ 0.          0.          1.        ]]\n",
      "[[78  0  0]\n",
      " [ 0 96  2]\n",
      " [ 0  0 63]]\n"
     ]
    },
    {
     "data": {
      "image/png": "[encoded data removed]",
      "text/plain": [
       "<matplotlib.figure.Figure at 0xa4802b64e0>"
      ]
     },
     "metadata": {},
     "output_type": "display_data"
    }
   ],
   "source": [
    "plot_matrix(net, X_test, y_test)\n",
    "print(confusion_matrix(y_test, net.predict(X_test)))"
   ]
  },
  {
   "cell_type": "code",
   "execution_count": 30,
   "metadata": {
    "collapsed": true
   },
   "outputs": [],
   "source": [
    "# Guardar red"
   ]
  },
  {
   "cell_type": "code",
   "execution_count": 22,
   "metadata": {
    "collapsed": true
   },
   "outputs": [],
   "source": [
    "import pickle"
   ]
  },
  {
   "cell_type": "code",
   "execution_count": 23,
   "metadata": {
    "collapsed": true
   },
   "outputs": [],
   "source": [
    "with open('../data/face_classifier_big.pickle', 'wb') as f:\n",
    "        pickle.dump(net, f, -1)"
   ]
  },
  {
   "cell_type": "code",
   "execution_count": 33,
   "metadata": {
    "collapsed": true
   },
   "outputs": [],
   "source": [
    "# Cargar red"
   ]
  },
  {
   "cell_type": "code",
   "execution_count": 24,
   "metadata": {
    "collapsed": true
   },
   "outputs": [],
   "source": [
    "net2 = None\n",
    "with open('../data/face_classifier_big.pickle', 'rb') as f:\n",
    "       net2 = pickle.load(f)"
   ]
  },
  {
   "cell_type": "code",
   "execution_count": 35,
   "metadata": {
    "collapsed": true
   },
   "outputs": [],
   "source": [
    "# Mostrar datos de red cargada"
   ]
  },
  {
   "cell_type": "code",
   "execution_count": 25,
   "metadata": {},
   "outputs": [
    {
     "name": "stdout",
     "output_type": "stream",
     "text": [
      "# Neural Network with 1658003 learnable parameters\n",
      "\n",
      "## Layer information\n",
      "\n",
      "  #  name         size\n",
      "---  -----------  ----------\n",
      "  0  input0       1x128x128\n",
      "  1  conv2d1      16x124x124\n",
      "  2  conv2d2      16x122x122\n",
      "  3  conv2d3      16x126x126\n",
      "  4  conv2d4      16x122x122\n",
      "  5  maxpool2d5   16x61x61\n",
      "  6  conv2d6      32x59x59\n",
      "  7  conv2d7      32x57x57\n",
      "  8  conv2d8      32x59x59\n",
      "  9  conv2d9      32x57x57\n",
      " 10  maxpool2d10  32x28x28\n",
      " 11  dense11      64\n",
      " 12  dropout12    64\n",
      " 13  dense13      64\n",
      " 14  dense14      3\n",
      "\n"
     ]
    }
   ],
   "source": [
    "from nolearn.lasagne import PrintLayerInfo\n",
    "layer_info = PrintLayerInfo()\n",
    "\n",
    "net.verbose = 1\n",
    "net.initialize()\n",
    "layer_info(net2)"
   ]
  },
  {
   "cell_type": "code",
   "execution_count": 37,
   "metadata": {
    "collapsed": true
   },
   "outputs": [],
   "source": [
    "# Cargar imagen"
   ]
  },
  {
   "cell_type": "code",
   "execution_count": 26,
   "metadata": {},
   "outputs": [
    {
     "data": {
      "image/png": "[encoded data removed]",
      "text/plain": [
       "<matplotlib.figure.Figure at 0xa480adcba8>"
      ]
     },
     "metadata": {},
     "output_type": "display_data"
    }
   ],
   "source": [
    "my_image = cv2.imread(\"../happyyy.jpg\", 0)\n",
    "plt.imshow(my_image, cmap='gray')\n",
    "X = np.vstack(my_image) / 255.\n",
    "plt.imshow(X, cmap='gray')\n",
    "X = X.astype(np.float32)\n",
    "X = X.reshape(-1, 1, 128, 128)"
   ]
  },
  {
   "cell_type": "code",
   "execution_count": 39,
   "metadata": {
    "collapsed": true
   },
   "outputs": [],
   "source": [
    "# Clasificar imagen"
   ]
  },
  {
   "cell_type": "code",
   "execution_count": 27,
   "metadata": {},
   "outputs": [
    {
     "data": {
      "text/plain": [
       "array([1], dtype=int64)"
      ]
     },
     "execution_count": 27,
     "metadata": {},
     "output_type": "execute_result"
    }
   ],
   "source": [
    "net2.predict(X)"
   ]
  },
  {
   "cell_type": "code",
   "execution_count": 28,
   "metadata": {},
   "outputs": [
    {
     "data": {
      "text/plain": [
       "(array([[  1.24255588e-11,   9.99990826e-01,   9.17369317e-06]]), 1.0)"
      ]
     },
     "execution_count": 28,
     "metadata": {},
     "output_type": "execute_result"
    }
   ],
   "source": [
    "proba = net2.predict_proba(X)\n",
    "proba, proba.sum()"
   ]
  },
  {
   "cell_type": "code",
   "execution_count": null,
   "metadata": {
    "collapsed": true
   },
   "outputs": [],
   "source": []
  }
 ],
 "metadata": {
  "kernelspec": {
   "display_name": "Python 3",
   "language": "python",
   "name": "python3"
  },
  "language_info": {
   "codemirror_mode": {
    "name": "ipython",
    "version": 3
   },
   "file_extension": ".py",
   "mimetype": "text/x-python",
   "name": "python",
   "nbconvert_exporter": "python",
   "pygments_lexer": "ipython3",
   "version": "3.6.1"
  }
 },
 "nbformat": 4,
 "nbformat_minor": 2
}
